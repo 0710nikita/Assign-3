{
 "cells": [
  {
   "cell_type": "code",
   "execution_count": null,
   "metadata": {},
   "outputs": [],
   "source": [
    "# 1.1 Write a Python Program to implement your own myreduce() function which works exactly like Python's \n",
    "# built-in function reduce()\n"
   ]
  },
  {
   "cell_type": "code",
   "execution_count": 1,
   "metadata": {},
   "outputs": [
    {
     "name": "stdout",
     "output_type": "stream",
     "text": [
      "350\n"
     ]
    }
   ],
   "source": [
    "def myreduce(add,l):\n",
    "    return a\n",
    "def add(a,b):\n",
    "    return a + b\n",
    "l = [50,60,70,80,90]\n",
    "a = l[0]\n",
    "for i in range(1,len(l)):\n",
    "    b = l[i]\n",
    "    a = add(a,b)\n",
    "print(myreduce(add,l))"
   ]
  },
  {
   "cell_type": "code",
   "execution_count": 3,
   "metadata": {},
   "outputs": [
    {
     "name": "stdout",
     "output_type": "stream",
     "text": [
      "[4, 8, 6, 12, 56, 78]\n"
     ]
    }
   ],
   "source": [
    "# 1.2 Write a Python program to implement your own myfilter() function which works exactly\n",
    "# like Python's built-in function filter()\n",
    "def myfilter(is_even,l1):\n",
    "    return is_even(a)\n",
    "l1=[1,5,4,7,8,6,9,3,12,45,56,78,89]\n",
    "l2=[]\n",
    "def is_even(a):\n",
    "    for i in l1:\n",
    "        if i%2==0:\n",
    "            l2.append(i)\n",
    "    print(l2)\n",
    "myfilter(is_even,l1)"
   ]
  },
  {
   "cell_type": "code",
   "execution_count": 5,
   "metadata": {},
   "outputs": [
    {
     "name": "stdout",
     "output_type": "stream",
     "text": [
      "[1, 3, 5, 7, 9, 45, 89]\n"
     ]
    }
   ],
   "source": [
    "def myfilter(is_odd,l1):\n",
    "    return is_odd(a)\n",
    "l1=[1,3,5,4,7,8,6,9,12,45,56,78,89]\n",
    "l2=[]\n",
    "def is_odd(a):\n",
    "    for i in l1:\n",
    "        if i%2!=0:\n",
    "            l2.append(i)\n",
    "    print(l2)\n",
    "myfilter(is_odd,l1)"
   ]
  },
  {
   "cell_type": "code",
   "execution_count": 23,
   "metadata": {},
   "outputs": [],
   "source": [
    "# 2.  Implement list comprehensions to produce the following Lists.\n",
    "# Write list comprehensions to produce the following Lists.\n",
    "# ['x','xx','xxx','xxxx','y','yy','yyy','yyyy','z','zz','zzz','zzzz']\n",
    "# ['x','y','z','xx','yy','zz','xxx','yyy','zzz','xxxx','yyyy','zzzz']\n",
    "# [[2],[3],[4],[3],[4],[5],[4],[5],[6]]\n",
    "# [[2,3,4,5],[3,4,5,6],[4,5,6,7],[5,6,7,8]]\n",
    "# [(1,1),(2,1),(3,1),(1,2),(2,2),(3,2),(1,3),(2,3),(3,3)]"
   ]
  },
  {
   "cell_type": "code",
   "execution_count": 40,
   "metadata": {},
   "outputs": [
    {
     "name": "stdout",
     "output_type": "stream",
     "text": [
      "['x', 'xx', 'xxx', 'xxxx', 'y', 'yy', 'yyy', 'yyyy', 'z', 'zz', 'zzz', 'zzzz']\n",
      "['x', 'y', 'z', 'xx', 'yy', 'zz', 'xxx', 'yyy', 'zzz', 'xxxx', 'yyyy', 'zzzz']\n",
      "[[2], [3], [4], [3], [4], [5], [4], [5], [6]]\n",
      "[[2, 3, 4, 5], [3, 4, 5, 6], [4, 5, 6, 7], [5, 6, 7, 8]]\n",
      "[(1, 1), (2, 1), (3, 1), (1, 2), (2, 2), (3, 2), (1, 3), (2, 3), (3, 3)]\n"
     ]
    }
   ],
   "source": [
    "l1 = [i * n for i in 'xyz' for n in range(1,5)]\n",
    "print(str(l1))\n",
    "\n",
    "l2 = [n * i for n in range(1,5) for i in 'xyz']\n",
    "print(str(l2))\n",
    "\n",
    "l3 = [[i + n] for i in [2,3,4] for n in range(0,3)]\n",
    "print(str(l3))\n",
    "\n",
    "l4 = [[i + n for i in [2,3,4,5]] for n in range(0,4)]\n",
    "print(str(l4))\n",
    "\n",
    "l5 = [(j,i) for i in [1,2,3] for j in [1,2,3]]\n",
    "print(str(l5))"
   ]
  },
  {
   "cell_type": "code",
   "execution_count": null,
   "metadata": {},
   "outputs": [],
   "source": []
  }
 ],
 "metadata": {
  "kernelspec": {
   "display_name": "Python 3",
   "language": "python",
   "name": "python3"
  },
  "language_info": {
   "codemirror_mode": {
    "name": "ipython",
    "version": 3
   },
   "file_extension": ".py",
   "mimetype": "text/x-python",
   "name": "python",
   "nbconvert_exporter": "python",
   "pygments_lexer": "ipython3",
   "version": "3.8.3"
  }
 },
 "nbformat": 4,
 "nbformat_minor": 4
}
